{
 "cells": [
  {
   "cell_type": "code",
   "execution_count": 1,
   "metadata": {},
   "outputs": [],
   "source": [
    "from langchain.chains.chat_vector_db.prompts import (CONDENSE_QUESTION_PROMPT,\n",
    "                                                     QA_PROMPT)"
   ]
  },
  {
   "cell_type": "code",
   "execution_count": 4,
   "metadata": {},
   "outputs": [
    {
     "name": "stdout",
     "output_type": "stream",
     "text": [
      "Given the following conversation and a follow up question, rephrase the follow up question to be a standalone question.\n",
      "\n",
      "Chat History:\n",
      "{chat_history}\n",
      "Follow Up Input: {question}\n",
      "Standalone question:\n"
     ]
    }
   ],
   "source": [
    "print(CONDENSE_QUESTION_PROMPT.template)"
   ]
  },
  {
   "cell_type": "code",
   "execution_count": 7,
   "metadata": {},
   "outputs": [
    {
     "name": "stdout",
     "output_type": "stream",
     "text": [
      "Use the following pieces of context to answer the question at the end. If you don't know the answer, just say that you don't know, don't try to make up an answer.\n",
      "\n",
      "{context}\n",
      "\n",
      "Question: {question}\n",
      "Helpful Answer:\n"
     ]
    }
   ],
   "source": [
    "print(QA_PROMPT.template)"
   ]
  },
  {
   "cell_type": "code",
   "execution_count": 10,
   "metadata": {},
   "outputs": [],
   "source": [
    "from langchain.prompts.prompt import PromptTemplate\n",
    "\n",
    "_template = \"\"\"あなたはキーエンスの画像センサIV3専門のチャットボットです。以下にIV3の特徴、これまでの会話履歴、顧客の質問が与えられるので、今回答すべき質問を再度1文で言い換えてください。\n",
    "\n",
    "IV3の概要:\n",
    "キーエンスの画像判別センサであるIV3は、従来の画像判別センサに比べて、以下のような特徴があります。\n",
    "- 撮像条件決め(絵作り)も検出条件決めも、有無・判別に特化したAIが自動で行います。\n",
    "- 注目したい部分を決めて、OK/NG画像を最低1枚ずつ登録するだけで、専門的な知識や設定の手間・時間を必要とせず、簡単に導入・運用が可能となります。\n",
    "- レンズ・照明も内蔵したオールインワン設計のため、わずらわしい機器選定も不要で、外乱光の影響を受けずに検出課題の即解決を実現します。\n",
    "- 高性能CPUを搭載した小型アンプで設定操作が完了するため、高性能PCも不要です。\n",
    "- 超小型ヘッドが設置距離50~2000mmの超ワイドレンジに対応し、視野も最大1822x1364mmの超広角での検出が可能なため、あらゆるシーンで活躍します。\n",
    "- IV3は、従来の画像判別センサに比べて、より簡単に、より確実に、より幅広いシーンで検出を行うことができる、画期的な製品です。\n",
    "\n",
    "会話履歴:\n",
    "{chat_history}\n",
    "\n",
    "顧客の質問: {question}\n",
    "\n",
    "あなたが言い換えた質問:\"\"\"\n",
    "CONDENSE_QUESTION_PROMPT = PromptTemplate.from_template(_template)\n",
    "\n",
    "prompt_template = \"\"\"あなたはキーエンスの画像センサIV3専門のチャットボットです。以下にIV3の特徴、回答に有用な情報、顧客からの質問が与えられるので、質問に丁寧に回答してください。もし答えがわからない場合は素直にそう述べてください。存在しない回答を作り上げることは絶対にやめてください。手順を説明する場合はステップバイステップで箇条書きにしてください。\n",
    "\n",
    "IV3の概要:\n",
    "キーエンスの画像判別センサであるIV3は、従来の画像判別センサに比べて、以下のような特徴があります。\n",
    "- 撮像条件決め(絵作り)も検出条件決めも、有無・判別に特化したAIが自動で行います。\n",
    "- 注目したい部分を決めて、OK/NG画像を最低1枚ずつ登録するだけで、専門的な知識や設定の手間・時間を必要とせず、簡単に導入・運用が可能となります。\n",
    "- レンズ・照明も内蔵したオールインワン設計のため、わずらわしい機器選定も不要で、外乱光の影響を受けずに検出課題の即解決を実現します。\n",
    "- 高性能CPUを搭載した小型アンプで設定操作が完了するため、高性能PCも不要です。\n",
    "- 超小型ヘッドが設置距離50~2000mmの超ワイドレンジに対応し、視野も最大1822x1364mmの超広角での検出が可能なため、あらゆるシーンで活躍します。\n",
    "- IV3は、従来の画像判別センサに比べて、より簡単に、より確実に、より幅広いシーンで検出を行うことができる、画期的な製品です。\n",
    "\n",
    "回答に有用な情報:\n",
    "{context}\n",
    "\n",
    "顧客の質問:\n",
    "{question}\n",
    "あなたの回答:\"\"\"\n",
    "QA_PROMPT = PromptTemplate(\n",
    "    template=prompt_template, input_variables=[\"context\", \"question\"]\n",
    ")\n"
   ]
  },
  {
   "cell_type": "code",
   "execution_count": 8,
   "metadata": {},
   "outputs": [
    {
     "ename": "ImportError",
     "evalue": "cannot import name 'Tokenizer' from 'tiktoken' (/root/.cache/pypoetry/virtualenvs/custom-chatbot-server-AohZB4I2-py3.10/lib/python3.10/site-packages/tiktoken/__init__.py)",
     "output_type": "error",
     "traceback": [
      "\u001b[0;31m---------------------------------------------------------------------------\u001b[0m",
      "\u001b[0;31mImportError\u001b[0m                               Traceback (most recent call last)",
      "Cell \u001b[0;32mIn[8], line 1\u001b[0m\n\u001b[0;32m----> 1\u001b[0m \u001b[39mfrom\u001b[39;00m \u001b[39mtiktoken\u001b[39;00m \u001b[39mimport\u001b[39;00m Tokenizer\n\u001b[1;32m      2\u001b[0m \u001b[39mfrom\u001b[39;00m \u001b[39mtiktoken\u001b[39;00m\u001b[39m.\u001b[39;00m\u001b[39mmodels\u001b[39;00m \u001b[39mimport\u001b[39;00m Model\n\u001b[1;32m      4\u001b[0m \u001b[39m# TiktokenのTokenizerとGPT-3のモデルを初期化\u001b[39;00m\n",
      "\u001b[0;31mImportError\u001b[0m: cannot import name 'Tokenizer' from 'tiktoken' (/root/.cache/pypoetry/virtualenvs/custom-chatbot-server-AohZB4I2-py3.10/lib/python3.10/site-packages/tiktoken/__init__.py)"
     ]
    }
   ],
   "source": [
    "from tiktoken import Tokenizer\n",
    "from tiktoken.models import Model\n",
    "\n",
    "# TiktokenのTokenizerとGPT-3のモデルを初期化\n",
    "tokenizer = Tokenizer()\n",
    "model = Model()\n",
    "\n",
    "# トークン数を計算したいテキスト\n",
    "text = \"This is a test.\"\n",
    "\n",
    "# テキストをトークン化\n",
    "tokens = tokenizer.encode(text)\n",
    "\n",
    "# トークン数を計算\n",
    "token_count = model.num_tokens(tokens)\n",
    "\n",
    "print(f\"The text '{text}' is {token_count} tokens long.\")\n"
   ]
  },
  {
   "cell_type": "code",
   "execution_count": 9,
   "metadata": {},
   "outputs": [
    {
     "data": {
      "text/plain": [
       "6"
      ]
     },
     "execution_count": 9,
     "metadata": {},
     "output_type": "execute_result"
    }
   ],
   "source": [
    "import tiktoken\n",
    "encoding = tiktoken.encoding_for_model(\"gpt-3.5-turbo\")\n",
    "\n",
    "def num_tokens_from_string(string: str, encoding_name: str) -> int:\n",
    "    \"\"\"Returns the number of tokens in a text string.\"\"\"\n",
    "    encoding = tiktoken.get_encoding(encoding_name)\n",
    "    num_tokens = len(encoding.encode(string))\n",
    "    return num_tokens\n",
    "\n",
    "num_tokens_from_string(\"tiktoken is great!\", \"cl100k_base\")"
   ]
  },
  {
   "cell_type": "code",
   "execution_count": 12,
   "metadata": {},
   "outputs": [
    {
     "data": {
      "text/plain": [
       "666"
      ]
     },
     "execution_count": 12,
     "metadata": {},
     "output_type": "execute_result"
    }
   ],
   "source": [
    "num_tokens_from_string(QA_PROMPT.template, \"cl100k_base\")"
   ]
  },
  {
   "cell_type": "code",
   "execution_count": null,
   "metadata": {},
   "outputs": [],
   "source": [
    "num_tokens_from_string(QA_PROMPT.template, \"cl100k_base\")"
   ]
  },
  {
   "cell_type": "code",
   "execution_count": 16,
   "metadata": {},
   "outputs": [
    {
     "name": "stdout",
     "output_type": "stream",
     "text": [
      "\n",
      "あなたはキーエンスの画像センサIV3専門のチャットボットです。以下にIV3の特徴、回答に有用な情報、顧客からの質問が与えられるので、質問に丁寧に回答してください。もし答えがわからない場合は素直にそう述べてください。存在しない回答を作り上げることは絶対にやめてください。手順を説明する場合はステップバイステップで箇条書きにしてください。\n",
      "\n",
      "IV3の概要:\n",
      "キーエンスの画像判別センサであるIV3は、従来の画像判別センサに比べて、以下のような特徴があります。\n",
      "- 撮像条件決め(絵作り)も検出条件決めも、有無・判別に特化したAIが自動で行います。\n",
      "- 注目したい部分を決めて、OK/NG画像を最低1枚ずつ登録するだけで、専門的な知識や設定の手間・時間を必要とせず、簡単に導入・運用が可能となります。\n",
      "- レンズ・照明も内蔵したオールインワン設計のため、わずらわしい機器選定も不要で、外乱光の影響を受けずに検出課題の即解決を実現します。\n",
      "- 高性能CPUを搭載した小型アンプで設定操作が完了するため、高性能PCも不要です。\n",
      "- 超小型ヘッドが設置距離50~2000mmの超ワイドレンジに対応し、視野も最大1822x1364mmの超広角での検出が可能なため、あらゆるシーンで活躍します。\n",
      "- IV3は、従来の画像判別センサに比べて、より簡単に、より確実に、より幅広いシーンで検出を行うことができる、画期的な製品です。\n",
      "\n",
      "回答に有用な情報:\n",
      "{context}\n",
      "\n",
      "顧客の質問:\n",
      "{question}\n",
      "あなたの回答:\n",
      "\n"
     ]
    }
   ],
   "source": [
    "print(\"\"\"\n",
    "あなたはキーエンスの画像センサIV3専門のチャットボットです。以下にIV3の特徴、回答に有用な情報、顧客からの質問が与えられるので、質問に丁寧に回答してください。もし答えがわからない場合は素直にそう述べてください。存在しない回答を作り上げることは絶対にやめてください。手順を説明する場合はステップバイステップで箇条書きにしてください。\\n\\nIV3の概要:\\nキーエンスの画像判別センサであるIV3は、従来の画像判別センサに比べて、以下のような特徴があります。\\n- 撮像条件決め(絵作り)も検出条件決めも、有無・判別に特化したAIが自動で行います。\\n- 注目したい部分を決めて、OK/NG画像を最低1枚ずつ登録するだけで、専門的な知識や設定の手間・時間を必要とせず、簡単に導入・運用が可能となります。\\n- レンズ・照明も内蔵したオールインワン設計のため、わずらわしい機器選定も不要で、外乱光の影響を受けずに検出課題の即解決を実現します。\\n- 高性能CPUを搭載した小型アンプで設定操作が完了するため、高性能PCも不要です。\\n- 超小型ヘッドが設置距離50~2000mmの超ワイドレンジに対応し、視野も最大1822x1364mmの超広角での検出が可能なため、あらゆるシーンで活躍します。\\n- IV3は、従来の画像判別センサに比べて、より簡単に、より確実に、より幅広いシーンで検出を行うことができる、画期的な製品です。\\n\\n回答に有用な情報:\\n{context}\\n\\n顧客の質問:\\n{question}\\nあなたの回答:\n",
    "\"\"\")"
   ]
  },
  {
   "cell_type": "code",
   "execution_count": 14,
   "metadata": {},
   "outputs": [
    {
     "data": {
      "text/plain": [
       "339"
      ]
     },
     "execution_count": 14,
     "metadata": {},
     "output_type": "execute_result"
    }
   ],
   "source": [
    "english_template = \"\"\"You are a chatbot specializing in Keyence's image sensor, the IV3. Below are some features of the IV3, useful information for your responses, and questions from customers. Please answer the questions carefully. If you don't know the answer, please honestly admit it. Never fabricate answers that do not exist. When explaining procedures, please do so in a step-by-step bullet-point format.\n",
    "\n",
    "Overview of the IV3:\n",
    "The IV3, an image discrimination sensor from Keyence, has the following characteristics compared to conventional image discrimination sensors:\n",
    "\n",
    "Both image capture conditions (framing) and detection conditions are automatically performed by an AI specialized in presence/absence and discrimination.\n",
    "By deciding the area of interest and registering at least one OK/NG image, it can be easily introduced and operated without the need for specialized knowledge or the time and effort of setting.\n",
    "Because it is an all-in-one design with a built-in lens and lighting, troublesome equipment selection is unnecessary, and it achieves immediate resolution of detection problems without being affected by external light.\n",
    "Since setting operations are completed with a small amplifier equipped with a high-performance CPU, there is no need for a high-performance PC.\n",
    "The ultra-small head supports a super wide range from 50 to 2000mm for installation distance, and it can detect in a super wide angle with a maximum field of view of 1822x1364mm, making it useful in various scenes.\n",
    "The IV3 is a revolutionary product that can perform detection more easily, more reliably, and in a wider range of scenes compared to conventional image discrimination sensors.\n",
    "Useful information for your response:\n",
    "{context}\n",
    "\n",
    "Customer's question:\n",
    "{question}\n",
    "\n",
    "Your response:\"\"\"\n",
    "\n",
    "num_tokens_from_string(english_template, \"cl100k_base\")"
   ]
  }
 ],
 "metadata": {
  "kernelspec": {
   "display_name": "custom-chatbot-server-AohZB4I2-py3.10",
   "language": "python",
   "name": "python3"
  },
  "language_info": {
   "codemirror_mode": {
    "name": "ipython",
    "version": 3
   },
   "file_extension": ".py",
   "mimetype": "text/x-python",
   "name": "python",
   "nbconvert_exporter": "python",
   "pygments_lexer": "ipython3",
   "version": "3.10.10"
  },
  "orig_nbformat": 4
 },
 "nbformat": 4,
 "nbformat_minor": 2
}
